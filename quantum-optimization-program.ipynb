{
 "cells": [
  {
   "cell_type": "markdown",
   "id": "5156d49d",
   "metadata": {},
   "source": [
    "# Vanguard Quantum Portfolio Optimization Challenge\n",
    "This notebook explores quantum-enhanced methods to optimize high-dimensional, constraint-heavy portfolio problems. The goal is to prototype a quantum-classical pipeline using binary decision variables, quadratic objectives, and performance comparisons against classical solvers.\n",
    "\n",
    "_Made by EntangledMinds_"
   ]
  },
  {
   "cell_type": "markdown",
   "id": "12dd2237",
   "metadata": {},
   "source": [
    "## 1. Mathematical Formulation\n",
    "We define a binary decision variable \\( y_c \\in \\{0, 1\\} \\) for each bond \\( c \\). The objective is a quadratic cost representing tracking error across multiple asset characteristics, with penalty terms encoding constraints.\n",
    "\n",
    "1\n"
   ]
  },
  {
   "cell_type": "markdown",
   "id": "2c1482ec",
   "metadata": {},
   "source": [
    "## 2. Binary optimization problem to quantum optimization algorithm."
   ]
  },
  {
   "cell_type": "code",
   "execution_count": 33,
   "id": "d749da91",
   "metadata": {},
   "outputs": [],
   "source": [
    "# Core libraries\n",
    "import numpy as np\n",
    "import matplotlib.pyplot as plt\n",
    "import seaborn as sns\n",
    "\n",
    "# Quantum SDK\n",
    "from qiskit_aer import Aer\n",
    "from qiskit_algorithms.utils import algorithm_globals\n",
    "from qiskit_optimization import QuadraticProgram\n",
    "from qiskit_optimization.algorithms import MinimumEigenOptimizer\n",
    "from qiskit_optimization.algorithms.minimum_eigen_optimizer import SamplingMinimumEigensolver\n",
    "from qiskit_optimization.converters import QuadraticProgramToQubo\n",
    "from qiskit_algorithms import VQE\n",
    "from qiskit_algorithms.optimizers import COBYLA\n",
    "\n",
    "from qiskit.circuit.library import TwoLocal\n",
    "from qiskit.primitives import Estimator\n",
    "\n",
    "# Classical solver (optional validation)\n",
    "from scipy.optimize import minimize\n"
   ]
  },
  {
   "cell_type": "markdown",
   "id": "b90ef7a3",
   "metadata": {},
   "source": [
    "## 3. Quantum optimization program"
   ]
  },
  {
   "cell_type": "markdown",
   "id": "a00d61f3",
   "metadata": {},
   "source": [
    "## 4. Solution & Validation"
   ]
  },
  {
   "cell_type": "markdown",
   "id": "b1772882",
   "metadata": {},
   "source": [
    "## 5. Classical Solution Comparation"
   ]
  },
  {
   "cell_type": "code",
   "execution_count": 4,
   "id": "fe6f820a",
   "metadata": {},
   "outputs": [
    {
     "ename": "NameError",
     "evalue": "name 'QuadraticProgram' is not defined",
     "output_type": "error",
     "traceback": [
      "\u001b[1;31m---------------------------------------------------------------------------\u001b[0m",
      "\u001b[1;31mNameError\u001b[0m                                 Traceback (most recent call last)",
      "Cell \u001b[1;32mIn[4], line 1\u001b[0m\n\u001b[1;32m----> 1\u001b[0m qp \u001b[38;5;241m=\u001b[39m QuadraticProgram(\u001b[38;5;124m\"\u001b[39m\u001b[38;5;124mportfolio_optimization\u001b[39m\u001b[38;5;124m\"\u001b[39m)\n\u001b[0;32m      2\u001b[0m \u001b[38;5;28;01mfor\u001b[39;00m var \u001b[38;5;129;01min\u001b[39;00m x:\n\u001b[0;32m      3\u001b[0m     qp\u001b[38;5;241m.\u001b[39mbinary_var(name\u001b[38;5;241m=\u001b[39mvar)\n",
      "\u001b[1;31mNameError\u001b[0m: name 'QuadraticProgram' is not defined"
     ]
    }
   ],
   "source": [
    "qp = QuadraticProgram(\"portfolio_optimization\")\n",
    "for var in x:\n",
    "    qp.binary_var(name=var)\n",
    "\n",
    "# Build the quadratic objective matrix and linear vector\n",
    "linear = np.zeros(n_assets)\n",
    "quadratic = np.zeros((n_assets, n_assets))\n",
    "constant = 0\n",
    "\n",
    "for j in range(len(rho)):\n",
    "    # Expand (sum_i beta[j][i] * x_i - target[j])**2\n",
    "    for i in range(n_assets):\n",
    "        for k in range(n_assets):\n",
    "            quadratic[i, k] += rho[j] * beta[j, i] * beta[j, k]\n",
    "        linear[i] += -2 * rho[j] * beta[j, i] * target[j]\n",
    "    constant += rho[j] * target[j] ** 2\n",
    "\n",
    "qp.minimize(constant=constant, linear=linear, quadratic=quadratic)\n"
   ]
  },
  {
   "cell_type": "code",
   "execution_count": null,
   "id": "dcb51a05",
   "metadata": {},
   "outputs": [
    {
     "ename": "TypeError",
     "evalue": "Can't instantiate abstract class SamplingMinimumEigensolver without an implementation for abstract method 'compute_minimum_eigenvalue'",
     "output_type": "error",
     "traceback": [
      "\u001b[1;31m---------------------------------------------------------------------------\u001b[0m",
      "\u001b[1;31mTypeError\u001b[0m                                 Traceback (most recent call last)",
      "Cell \u001b[1;32mIn[40], line 7\u001b[0m\n\u001b[0;32m      5\u001b[0m optimizer \u001b[38;5;241m=\u001b[39m COBYLA(maxiter\u001b[38;5;241m=\u001b[39m\u001b[38;5;241m20\u001b[39m)\n\u001b[0;32m      6\u001b[0m vqe \u001b[38;5;241m=\u001b[39m VQE(ansatz\u001b[38;5;241m=\u001b[39mansatz, optimizer\u001b[38;5;241m=\u001b[39moptimizer, estimator\u001b[38;5;241m=\u001b[39mestimator)\n\u001b[1;32m----> 7\u001b[0m sampling_eigensolver \u001b[38;5;241m=\u001b[39m SamplingMinimumEigensolver()\n\u001b[0;32m      8\u001b[0m result_q \u001b[38;5;241m=\u001b[39m sampling_eigensolver\u001b[38;5;241m.\u001b[39msolve(qubo)\n\u001b[0;32m      9\u001b[0m \u001b[38;5;28mprint\u001b[39m(\u001b[38;5;124m\"\u001b[39m\u001b[38;5;124mQuantum Solution:\u001b[39m\u001b[38;5;124m\"\u001b[39m, result_q)\n",
      "\u001b[1;31mTypeError\u001b[0m: Can't instantiate abstract class SamplingMinimumEigensolver without an implementation for abstract method 'compute_minimum_eigenvalue'"
     ]
    }
   ],
   "source": [
    "qubo = QuadraticProgramToQubo().convert(qp)\n",
    "algorithm_globals.random_seed = 42\n",
    "ansatz = TwoLocal(rotation_blocks='ry', entanglement_blocks='cz')\n",
    "estimator = Estimator()\n",
    "optimizer = COBYLA(maxiter=20)\n",
    "vqe = VQE(ansatz=ansatz, optimizer=optimizer, estimator=estimator)\n",
    "sampling_eigensolver = SamplingMinimumEigensolver()\n",
    "result_q = sampling_eigensolver.solve(qubo)\n",
    "print(\"Quantum Solution:\", result_q)\n"
   ]
  },
  {
   "cell_type": "code",
   "execution_count": null,
   "id": "9ed36840",
   "metadata": {},
   "outputs": [],
   "source": [
    "# Simple classical comparison (mock)\n",
    "def cost_function_binary(y_bin):\n",
    "    y = np.array(y_bin)\n",
    "    total = 0\n",
    "    for j in range(len(rho)):\n",
    "        mismatch = np.dot(beta[j], y) - target[j]\n",
    "        total += rho[j] * mismatch**2\n",
    "    return total\n",
    "\n",
    "# Greedy binary initialization\n",
    "init = np.random.randint(0, 2, n_assets)\n",
    "result_c = minimize(cost_function_binary, init, method='Powell')\n",
    "print(\"Classical Solution:\", result_c.fun)\n"
   ]
  },
  {
   "cell_type": "code",
   "execution_count": null,
   "id": "42e789df",
   "metadata": {},
   "outputs": [],
   "source": [
    "# Compare objective values\n",
    "quantum_obj = result_q.fval\n",
    "classical_obj = result_c.fun\n",
    "\n",
    "print(f\"Quantum Objective: {quantum_obj}\")\n",
    "print(f\"Classical Objective: {classical_obj}\")\n"
   ]
  },
  {
   "cell_type": "code",
   "execution_count": null,
   "id": "deaa856c",
   "metadata": {},
   "outputs": [],
   "source": [
    "sns.barplot(x=[f\"y_{i}\" for i in range(n_assets)],\n",
    "            y=result_q.x,\n",
    "            palette=\"viridis\")\n",
    "plt.title(\"Quantum-Optimized Asset Selections\")\n",
    "plt.ylabel(\"Selection (0 or 1)\")\n",
    "plt.xticks(rotation=90)\n",
    "plt.show()\n"
   ]
  }
 ],
 "metadata": {
  "kernelspec": {
   "display_name": "base",
   "language": "python",
   "name": "python3"
  },
  "language_info": {
   "codemirror_mode": {
    "name": "ipython",
    "version": 3
   },
   "file_extension": ".py",
   "mimetype": "text/x-python",
   "name": "python",
   "nbconvert_exporter": "python",
   "pygments_lexer": "ipython3",
   "version": "3.12.7"
  }
 },
 "nbformat": 4,
 "nbformat_minor": 5
}
